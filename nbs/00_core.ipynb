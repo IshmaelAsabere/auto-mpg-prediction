{
 "cells": [
  {
   "cell_type": "markdown",
   "metadata": {},
   "source": [
    "# Predicting fuel efficiency with Machine Learning\n",
    "\n",
    "> The Neural Network model uses the classic Auto dataset which contains information about various car attributes and their corresponding miles per gallon values."
   ]
  },
  {
   "cell_type": "code",
   "execution_count": null,
   "metadata": {},
   "outputs": [],
   "source": [
    "#| default_exp core"
   ]
  },
  {
   "cell_type": "markdown",
   "metadata": {},
   "source": [
    "## Load auto data and relevant libraries"
   ]
  },
  {
   "cell_type": "code",
   "execution_count": null,
   "metadata": {},
   "outputs": [],
   "source": [
    "# Import relevant dependencies for the machine learning project\n",
    "from tensorflow.keras.models import Sequential\n",
    "from tensorflow.keras.layers import Dense, Activation\n",
    "from sklearn.model_selection import train_test_split\n",
    "from tensorflow.keras.callbacks import EarlyStopping\n",
    "import pandas as pd\n",
    "import io\n",
    "import os\n",
    "import requests\n",
    "import numpy as np\n",
    "from sklearn import metrics"
   ]
  },
  {
   "cell_type": "code",
   "execution_count": null,
   "metadata": {},
   "outputs": [],
   "source": [
    "# Load data\n",
    "df = pd.read_csv(r'data/auto-mpg.csv', na_values=['NA','?'])"
   ]
  },
  {
   "cell_type": "code",
   "execution_count": null,
   "metadata": {},
   "outputs": [
    {
     "data": {
      "text/plain": [
       "(398, 9)"
      ]
     },
     "execution_count": null,
     "metadata": {},
     "output_type": "execute_result"
    }
   ],
   "source": [
    "df.shape"
   ]
  },
  {
   "cell_type": "code",
   "execution_count": null,
   "metadata": {},
   "outputs": [
    {
     "data": {
      "text/plain": [
       "mpg             0\n",
       "cylinders       0\n",
       "displacement    0\n",
       "horsepower      6\n",
       "weight          0\n",
       "acceleration    0\n",
       "year            0\n",
       "origin          0\n",
       "name            0\n",
       "dtype: int64"
      ]
     },
     "execution_count": null,
     "metadata": {},
     "output_type": "execute_result"
    }
   ],
   "source": [
    "# Check missing values - need to deal with missing values in horsepower\n",
    "df.isnull().sum()"
   ]
  },
  {
   "cell_type": "code",
   "execution_count": null,
   "metadata": {},
   "outputs": [],
   "source": [
    "# Deal with the missing values by filling them in with the median value\n",
    "df['horsepower'] = df['horsepower'].fillna(df['horsepower'].median())"
   ]
  },
  {
   "cell_type": "code",
   "execution_count": null,
   "metadata": {},
   "outputs": [
    {
     "data": {
      "text/plain": [
       "mpg             0\n",
       "cylinders       0\n",
       "displacement    0\n",
       "horsepower      0\n",
       "weight          0\n",
       "acceleration    0\n",
       "year            0\n",
       "origin          0\n",
       "name            0\n",
       "dtype: int64"
      ]
     },
     "execution_count": null,
     "metadata": {},
     "output_type": "execute_result"
    }
   ],
   "source": [
    "# Check the missing values again\n",
    "df.isnull().sum()"
   ]
  },
  {
   "cell_type": "markdown",
   "metadata": {},
   "source": [
    "## Define our target and features"
   ]
  },
  {
   "cell_type": "code",
   "execution_count": null,
   "metadata": {},
   "outputs": [],
   "source": [
    "x = df[['cylinders', 'displacement', 'horsepower','weight','acceleration','year','origin']].values\n",
    "y = df['mpg'].values"
   ]
  },
  {
   "cell_type": "code",
   "execution_count": null,
   "metadata": {},
   "outputs": [
    {
     "data": {
      "text/plain": [
       "numpy.ndarray"
      ]
     },
     "execution_count": null,
     "metadata": {},
     "output_type": "execute_result"
    }
   ],
   "source": [
    "type(y)"
   ]
  },
  {
   "cell_type": "markdown",
   "metadata": {},
   "source": [
    "## Split data into train and test values"
   ]
  },
  {
   "cell_type": "code",
   "execution_count": null,
   "metadata": {},
   "outputs": [],
   "source": [
    "x_train, x_test, y_train, y_test = train_test_split(x, y, test_size=0.25, random_state=42)"
   ]
  },
  {
   "cell_type": "code",
   "execution_count": null,
   "metadata": {},
   "outputs": [
    {
     "data": {
      "text/plain": [
       "(298, 7)"
      ]
     },
     "execution_count": null,
     "metadata": {},
     "output_type": "execute_result"
    }
   ],
   "source": [
    "x_train.shape"
   ]
  },
  {
   "cell_type": "markdown",
   "metadata": {},
   "source": [
    "## Train the Neural Network on the train data"
   ]
  },
  {
   "cell_type": "code",
   "execution_count": null,
   "metadata": {},
   "outputs": [
    {
     "name": "stdout",
     "output_type": "stream",
     "text": [
      "Epoch 1/1000\n",
      "10/10 - 6s - loss: 289.0994 - val_loss: 139.6767 - 6s/epoch - 628ms/step\n",
      "Epoch 2/1000\n",
      "10/10 - 0s - loss: 131.3682 - val_loss: 81.3089 - 222ms/epoch - 22ms/step\n",
      "Epoch 3/1000\n",
      "10/10 - 0s - loss: 91.6769 - val_loss: 79.7147 - 245ms/epoch - 24ms/step\n",
      "Epoch 4/1000\n",
      "10/10 - 0s - loss: 79.3116 - val_loss: 57.2720 - 211ms/epoch - 21ms/step\n",
      "Epoch 5/1000\n",
      "10/10 - 0s - loss: 64.5642 - val_loss: 47.6098 - 209ms/epoch - 21ms/step\n",
      "Epoch 6/1000\n",
      "10/10 - 0s - loss: 55.7570 - val_loss: 41.4851 - 211ms/epoch - 21ms/step\n",
      "Epoch 7/1000\n",
      "10/10 - 0s - loss: 48.7589 - val_loss: 33.7690 - 220ms/epoch - 22ms/step\n",
      "Epoch 8/1000\n",
      "10/10 - 0s - loss: 42.4368 - val_loss: 29.9907 - 295ms/epoch - 29ms/step\n",
      "Epoch 9/1000\n",
      "10/10 - 0s - loss: 38.4295 - val_loss: 25.9246 - 239ms/epoch - 24ms/step\n",
      "Epoch 10/1000\n",
      "10/10 - 0s - loss: 33.1909 - val_loss: 21.2726 - 211ms/epoch - 21ms/step\n",
      "Epoch 11/1000\n",
      "10/10 - 0s - loss: 30.5271 - val_loss: 20.2363 - 208ms/epoch - 21ms/step\n",
      "Epoch 12/1000\n",
      "10/10 - 0s - loss: 27.5326 - val_loss: 20.0861 - 241ms/epoch - 24ms/step\n",
      "Epoch 13/1000\n",
      "10/10 - 0s - loss: 26.1349 - val_loss: 15.7806 - 205ms/epoch - 20ms/step\n",
      "Epoch 14/1000\n",
      "10/10 - 0s - loss: 23.7464 - val_loss: 17.1423 - 204ms/epoch - 20ms/step\n",
      "Epoch 15/1000\n",
      "10/10 - 0s - loss: 21.5719 - val_loss: 14.4273 - 211ms/epoch - 21ms/step\n",
      "Epoch 16/1000\n",
      "10/10 - 0s - loss: 21.2971 - val_loss: 14.2234 - 243ms/epoch - 24ms/step\n",
      "Epoch 17/1000\n",
      "10/10 - 0s - loss: 23.0369 - val_loss: 20.1913 - 194ms/epoch - 19ms/step\n",
      "Epoch 18/1000\n",
      "10/10 - 0s - loss: 21.1706 - val_loss: 14.3832 - 226ms/epoch - 23ms/step\n",
      "Epoch 19/1000\n",
      "10/10 - 0s - loss: 22.3248 - val_loss: 16.3808 - 248ms/epoch - 25ms/step\n",
      "Epoch 20/1000\n",
      "10/10 - 0s - loss: 20.0976 - val_loss: 13.5110 - 266ms/epoch - 27ms/step\n",
      "Epoch 21/1000\n",
      "10/10 - 0s - loss: 21.5558 - val_loss: 16.4650 - 206ms/epoch - 21ms/step\n",
      "Epoch 22/1000\n",
      "10/10 - 0s - loss: 21.0357 - val_loss: 17.2175 - 221ms/epoch - 22ms/step\n",
      "Epoch 23/1000\n",
      "10/10 - 0s - loss: 18.7643 - val_loss: 13.8731 - 205ms/epoch - 20ms/step\n",
      "Epoch 24/1000\n",
      "10/10 - 0s - loss: 19.1444 - val_loss: 14.3125 - 209ms/epoch - 21ms/step\n",
      "Epoch 25/1000\n",
      "Restoring model weights from the end of the best epoch: 20.\n",
      "10/10 - 0s - loss: 17.7829 - val_loss: 20.6642 - 245ms/epoch - 25ms/step\n",
      "Epoch 25: early stopping\n"
     ]
    },
    {
     "data": {
      "text/plain": [
       "<keras.src.callbacks.History>"
      ]
     },
     "execution_count": null,
     "metadata": {},
     "output_type": "execute_result"
    }
   ],
   "source": [
    "model = Sequential()\n",
    "model.add(Dense(25, input_dim=x.shape[1], activation='relu'))\n",
    "model.add(Dense(10, activation='relu'))\n",
    "model.add(Dense(1))\n",
    "model.compile(loss='mean_squared_error', optimizer='adam')\n",
    "\n",
    "monitor = EarlyStopping(monitor='val_loss', min_delta=1e-3, patience=5, verbose=1, mode='auto', restore_best_weights=True)\n",
    "\n",
    "model.fit(x_train, y_train, validation_data=(x_test, y_test), callbacks=[monitor], verbose=2, epochs=1000)"
   ]
  },
  {
   "cell_type": "markdown",
   "metadata": {},
   "source": [
    "## Predicting on our test data"
   ]
  },
  {
   "cell_type": "code",
   "execution_count": null,
   "metadata": {},
   "outputs": [
    {
     "name": "stdout",
     "output_type": "stream",
     "text": [
      "4/4 [==============================] - 1s 7ms/step\n",
      "After the training the score is: 3.6757342926737295\n"
     ]
    }
   ],
   "source": [
    "# Predicting on the test data\n",
    "prediction = model.predict(x_test)\n",
    "score = np.sqrt(metrics.mean_squared_error(prediction, y_test))\n",
    "print(f'After the training the score is: {score}')"
   ]
  },
  {
   "cell_type": "markdown",
   "metadata": {},
   "source": [
    "## Save the model"
   ]
  },
  {
   "cell_type": "code",
   "execution_count": null,
   "metadata": {},
   "outputs": [
    {
     "data": {
      "text/plain": [
       "'C:\\\\Users\\\\ishma\\\\Dev_Workspace\\\\auto-mpg-prediction\\\\nbs'"
      ]
     },
     "execution_count": null,
     "metadata": {},
     "output_type": "execute_result"
    }
   ],
   "source": [
    "# Check working directory\n",
    "os.getcwd()"
   ]
  },
  {
   "cell_type": "code",
   "execution_count": null,
   "metadata": {},
   "outputs": [],
   "source": [
    "# Save the model as an h5 file\n",
    "model.save(os.path.join(os.getcwd(),\"mpg_model.h5\"))\n",
    "model.save(os.path.join(os.getcwd(),\"mpg_model.keras\"))"
   ]
  },
  {
   "cell_type": "markdown",
   "metadata": {},
   "source": [
    "## Preview the boundaries in the dataframe"
   ]
  },
  {
   "cell_type": "code",
   "execution_count": null,
   "metadata": {},
   "outputs": [
    {
     "data": {
      "text/plain": [
       "['cylinders',\n",
       " 'displacement',\n",
       " 'horsepower',\n",
       " 'weight',\n",
       " 'acceleration',\n",
       " 'year',\n",
       " 'origin']"
      ]
     },
     "execution_count": null,
     "metadata": {},
     "output_type": "execute_result"
    }
   ],
   "source": [
    "# Get column names\n",
    "cols = [x for x in df.columns if x not in ('mpg', 'name')]\n",
    "cols"
   ]
  },
  {
   "cell_type": "code",
   "execution_count": null,
   "metadata": {},
   "outputs": [
    {
     "name": "stdout",
     "output_type": "stream",
     "text": [
      "{\n",
      "\"cylinders\":{\"min\":3,\"max\":8},\n",
      "\"displacement\":{\"min\":68.0,\"max\":455.0},\n",
      "\"horsepower\":{\"min\":46.0,\"max\":230.0},\n",
      "\"weight\":{\"min\":1613,\"max\":5140},\n",
      "\"acceleration\":{\"min\":8.0,\"max\":24.8},\n",
      "\"year\":{\"min\":70,\"max\":82},\n",
      "\"origin\":{\"min\":1,\"max\":3}\n",
      "}\n"
     ]
    }
   ],
   "source": [
    "# Extract min and max values\n",
    "print(\"{\")\n",
    "for i,name in enumerate(cols):\n",
    "    print(f'\"{name}\":{{\"min\":{df[name].min()},\"max\":{df[name].max()}}}{\",\" if i<(len(cols)-1) else \"\"}')\n",
    "print(\"}\")\n"
   ]
  },
  {
   "cell_type": "code",
   "execution_count": null,
   "metadata": {},
   "outputs": [],
   "source": [
    "#| hide\n",
    "from nbdev.showdoc import *"
   ]
  },
  {
   "cell_type": "code",
   "execution_count": null,
   "metadata": {},
   "outputs": [],
   "source": [
    "#| hide\n",
    "def foo(): pass"
   ]
  },
  {
   "cell_type": "code",
   "execution_count": null,
   "metadata": {},
   "outputs": [],
   "source": [
    "#| hide\n",
    "import nbdev; nbdev.nbdev_export()"
   ]
  }
 ],
 "metadata": {
  "kernelspec": {
   "display_name": "python3",
   "language": "python",
   "name": "python3"
  }
 },
 "nbformat": 4,
 "nbformat_minor": 4
}
